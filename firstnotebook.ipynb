{
 "cells": [
  {
   "cell_type": "markdown",
   "id": "e3efea6a-5451-4499-b957-d0c67c31c880",
   "metadata": {},
   "source": [
    "# DATA SCIENCE"
   ]
  },
  {
   "cell_type": "markdown",
   "id": "407716bb-1791-4c6c-908b-330967d6a97b",
   "metadata": {},
   "source": [
    "## Introduction\n",
    "This notebook provides an overview of various data science concepts.\n"
   ]
  },
  {
   "cell_type": "markdown",
   "id": "e7c133d1-8d8b-4809-a82f-7bb8ff01c66b",
   "metadata": {},
   "source": [
    "## Data Science Languages\n",
    "- Python\n",
    "- R\n",
    "- SQL\n",
    "- Julia\n",
    "- Scala\n"
   ]
  },
  {
   "cell_type": "markdown",
   "id": "5e651552-4751-4c0e-923a-28b7835b863a",
   "metadata": {},
   "source": [
    "## Data Science Libraries\n",
    "- Pandas\n",
    "- NumPy\n",
    "- Matplotlib\n",
    "- Scikit-learn\n",
    "- TensorFlow\n"
   ]
  },
  {
   "cell_type": "markdown",
   "id": "fef1fc36-dea9-4cce-9a16-ba4fc8d0a606",
   "metadata": {},
   "source": [
    "## Data Science Tools\n",
    "| Tool          | Description               |\n",
    "|---------------|---------------------------|\n",
    "| Jupyter       | Notebook environment      |\n",
    "| RStudio       | IDE for R programming     |\n",
    "| Apache Spark  | Big data processing       |\n",
    "| Tableau       | Data visualization        |\n",
    "\n"
   ]
  },
  {
   "cell_type": "markdown",
   "id": "575f916b-feb6-48d8-8a3d-a125f3b4d3f6",
   "metadata": {},
   "source": [
    "## Arithmetic Expression Examples\n",
    "Examples of basic arithmetic operations in Python.\n"
   ]
  },
  {
   "cell_type": "code",
   "execution_count": 2,
   "id": "aa45f43c-87c7-40e6-af69-004e7299e331",
   "metadata": {},
   "outputs": [
    {
     "data": {
      "text/plain": [
       "17"
      ]
     },
     "execution_count": 2,
     "metadata": {},
     "output_type": "execute_result"
    }
   ],
   "source": [
    "# Multiplication and addition\n",
    "result = (3 * 4) + 5\n",
    "result\n"
   ]
  },
  {
   "cell_type": "code",
   "execution_count": 3,
   "id": "5c02be15-ba4a-487e-8aff-df69f85081b7",
   "metadata": {},
   "outputs": [
    {
     "data": {
      "text/plain": [
       "2.0"
      ]
     },
     "execution_count": 3,
     "metadata": {},
     "output_type": "execute_result"
    }
   ],
   "source": [
    "# Convert minutes to hours\n",
    "minutes = 120\n",
    "hours = minutes / 60\n",
    "hours\n"
   ]
  },
  {
   "cell_type": "markdown",
   "id": "cdbfa80f-dfe1-4008-a049-954e0dda798b",
   "metadata": {},
   "source": [
    "## Objectives\n",
    "- Learn basic Markdown syntax\n",
    "- Understand Jupyter Notebook structure\n",
    "- Practice simple Python operations\n"
   ]
  },
  {
   "cell_type": "markdown",
   "id": "7a1d817e-8f5c-4886-8896-2494aee955de",
   "metadata": {},
   "source": [
    "**Author**: \n",
    "Redouane SADOUK"
   ]
  },
  {
   "cell_type": "code",
   "execution_count": null,
   "id": "53eb2f93-524a-41d3-9add-51b41692f6cf",
   "metadata": {},
   "outputs": [],
   "source": []
  }
 ],
 "metadata": {
  "kernelspec": {
   "display_name": "Python 3 (ipykernel)",
   "language": "python",
   "name": "python3"
  },
  "language_info": {
   "codemirror_mode": {
    "name": "ipython",
    "version": 3
   },
   "file_extension": ".py",
   "mimetype": "text/x-python",
   "name": "python",
   "nbconvert_exporter": "python",
   "pygments_lexer": "ipython3",
   "version": "3.11.9"
  }
 },
 "nbformat": 4,
 "nbformat_minor": 5
}
